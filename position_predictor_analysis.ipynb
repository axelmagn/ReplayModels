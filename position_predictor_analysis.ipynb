{
 "cells": [
  {
   "cell_type": "markdown",
   "metadata": {},
   "source": [
    "# Position Predictor (In Progress)\n",
    "\n",
    "`Given the position of 1,3,5 players + ball have the model try and predict the position of the other player.`\n",
    "\n",
    "The intent of this notebook is to document the analysis of hypotheses related to the development of a position predictor model.  This analysis will be used in the construction and justification of a final model and pipeline."
   ]
  },
  {
   "cell_type": "code",
   "execution_count": 38,
   "metadata": {},
   "outputs": [],
   "source": [
    "import carball\n",
    "import pandas as pd\n",
    "import numpy as np\n",
    "import matplotlib.pyplot as plt\n",
    "import seaborn as sns\n",
    "import importlib\n",
    "import itertools\n",
    "import random\n",
    "import xgboost as xgb\n",
    "import tensorflow as tf\n",
    "import tensorflow_datasets as tfds\n",
    "import sklearn\n",
    "from sklearn.naive_bayes import GaussianNB\n",
    "from sklearn.svm import SVC\n",
    "from sklearn.datasets import load_digits\n",
    "from sklearn.model_selection import learning_curve\n",
    "from sklearn.model_selection import ShuffleSplit\n",
    "from sklearn.multioutput import MultiOutputRegressor"
   ]
  },
  {
   "cell_type": "code",
   "execution_count": 13,
   "metadata": {},
   "outputs": [],
   "source": [
    "# CONFIGS\n",
    "POSITION_COLUMNS = ['pos_x', 'pos_y', 'pos_z']\n",
    "NCOLS = len(POSITION_COLUMNS)\n",
    "RANDOM_SEED = 42\n",
    "TEST_RATIO = 0.2\n",
    "VALIDATE_RATIO = 0.2\n",
    "PARTITION_RANGE = 1000\n",
    "CACHE_PATH = \"./.replay_cache\"\n",
    "RASTER_RESOLUTION = (7,7,5)\n",
    "PLAY_AREA_DIMENSION = (4096, 5120, 2044)"
   ]
  },
  {
   "cell_type": "code",
   "execution_count": 14,
   "metadata": {},
   "outputs": [],
   "source": [
    "random.seed(RANDOM_SEED)"
   ]
  },
  {
   "cell_type": "markdown",
   "metadata": {},
   "source": [
    "## Data Exploration\n",
    "\n",
    "Before doing anything, I need to just get a grip on what the data is and what can be done with it."
   ]
  },
  {
   "cell_type": "code",
   "execution_count": 15,
   "metadata": {},
   "outputs": [
    {
     "name": "stdout",
     "output_type": "stream",
     "text": [
      "Caching replays at: /home/axelmagn/.replays_cache\n"
     ]
    }
   ],
   "source": [
    "import data\n",
    "importlib.reload(data)\n",
    "data_manager = data.FileCachedCalculated()"
   ]
  },
  {
   "cell_type": "code",
   "execution_count": 16,
   "metadata": {},
   "outputs": [],
   "source": [
    "replays = data_manager.get_replay_list(num=10)"
   ]
  },
  {
   "cell_type": "code",
   "execution_count": 17,
   "metadata": {},
   "outputs": [
    {
     "data": {
      "text/plain": [
       "['D4DE3A894229D5B8A5D0AE9091D3CA6C',\n",
       " '4DC852DA4D28F5D9047C509CA03412C8',\n",
       " 'EF578C404F791CE044EFDEB0036DA5EA',\n",
       " 'B828B7FD472EE7A19E9A9C8ECB7CA14B',\n",
       " 'A21C39DD402315E9831EC58C7A331F64',\n",
       " '1C1AA99611E7A6E035C32F9551CD5D38',\n",
       " '7901299C11E7D3B2E06E8CB0DF9F6172',\n",
       " '997C8F1E11E7F7D384BBD0BC1A6F09FC',\n",
       " 'F15A0B1211E814E30254D78BDDA89CDC',\n",
       " 'B61A9AA211E829665CEB87A590E3C53A']"
      ]
     },
     "execution_count": 17,
     "metadata": {},
     "output_type": "execute_result"
    }
   ],
   "source": [
    "replays"
   ]
  },
  {
   "cell_type": "code",
   "execution_count": 18,
   "metadata": {
    "scrolled": true
   },
   "outputs": [],
   "source": [
    "df0 = data_manager.get_pandas(replays[1])"
   ]
  },
  {
   "cell_type": "code",
   "execution_count": 19,
   "metadata": {},
   "outputs": [
    {
     "data": {
      "text/html": [
       "<div>\n",
       "<style scoped>\n",
       "    .dataframe tbody tr th:only-of-type {\n",
       "        vertical-align: middle;\n",
       "    }\n",
       "\n",
       "    .dataframe tbody tr th {\n",
       "        vertical-align: top;\n",
       "    }\n",
       "\n",
       "    .dataframe thead tr th {\n",
       "        text-align: left;\n",
       "    }\n",
       "\n",
       "    .dataframe thead tr:last-of-type th {\n",
       "        text-align: right;\n",
       "    }\n",
       "</style>\n",
       "<table border=\"1\" class=\"dataframe\">\n",
       "  <thead>\n",
       "    <tr>\n",
       "      <th></th>\n",
       "      <th colspan=\"10\" halign=\"left\">Hunter746</th>\n",
       "      <th>...</th>\n",
       "      <th colspan=\"4\" halign=\"left\">xcuttington21</th>\n",
       "      <th colspan=\"6\" halign=\"left\">game</th>\n",
       "    </tr>\n",
       "    <tr>\n",
       "      <th></th>\n",
       "      <th>pos_x</th>\n",
       "      <th>pos_y</th>\n",
       "      <th>pos_z</th>\n",
       "      <th>rot_x</th>\n",
       "      <th>rot_y</th>\n",
       "      <th>rot_z</th>\n",
       "      <th>vel_x</th>\n",
       "      <th>vel_y</th>\n",
       "      <th>vel_z</th>\n",
       "      <th>ang_vel_x</th>\n",
       "      <th>...</th>\n",
       "      <th>double_jump_active</th>\n",
       "      <th>dodge_active</th>\n",
       "      <th>ping</th>\n",
       "      <th>boost_collect</th>\n",
       "      <th>time</th>\n",
       "      <th>delta</th>\n",
       "      <th>seconds_remaining</th>\n",
       "      <th>replicated_seconds_remaining</th>\n",
       "      <th>ball_has_been_hit</th>\n",
       "      <th>goal_number</th>\n",
       "    </tr>\n",
       "    <tr>\n",
       "      <th>index</th>\n",
       "      <th></th>\n",
       "      <th></th>\n",
       "      <th></th>\n",
       "      <th></th>\n",
       "      <th></th>\n",
       "      <th></th>\n",
       "      <th></th>\n",
       "      <th></th>\n",
       "      <th></th>\n",
       "      <th></th>\n",
       "      <th></th>\n",
       "      <th></th>\n",
       "      <th></th>\n",
       "      <th></th>\n",
       "      <th></th>\n",
       "      <th></th>\n",
       "      <th></th>\n",
       "      <th></th>\n",
       "      <th></th>\n",
       "      <th></th>\n",
       "      <th></th>\n",
       "    </tr>\n",
       "  </thead>\n",
       "  <tbody>\n",
       "    <tr>\n",
       "      <th>0</th>\n",
       "      <td>-2048.0</td>\n",
       "      <td>-2560.0</td>\n",
       "      <td>18.0</td>\n",
       "      <td>-6.272256</td>\n",
       "      <td>-2.356183</td>\n",
       "      <td>-0.00278</td>\n",
       "      <td>0.0</td>\n",
       "      <td>0.0</td>\n",
       "      <td>81.0</td>\n",
       "      <td>0.0</td>\n",
       "      <td>...</td>\n",
       "      <td>False</td>\n",
       "      <td>False</td>\n",
       "      <td>NaN</td>\n",
       "      <td>NaN</td>\n",
       "      <td>19.284970</td>\n",
       "      <td>0.004000</td>\n",
       "      <td>300.0</td>\n",
       "      <td>NaN</td>\n",
       "      <td>None</td>\n",
       "      <td>NaN</td>\n",
       "    </tr>\n",
       "    <tr>\n",
       "      <th>1</th>\n",
       "      <td>-2048.0</td>\n",
       "      <td>-2560.0</td>\n",
       "      <td>18.0</td>\n",
       "      <td>-6.272256</td>\n",
       "      <td>-2.356183</td>\n",
       "      <td>-0.00278</td>\n",
       "      <td>0.0</td>\n",
       "      <td>0.0</td>\n",
       "      <td>81.0</td>\n",
       "      <td>0.0</td>\n",
       "      <td>...</td>\n",
       "      <td>False</td>\n",
       "      <td>False</td>\n",
       "      <td>NaN</td>\n",
       "      <td>NaN</td>\n",
       "      <td>19.321173</td>\n",
       "      <td>0.036207</td>\n",
       "      <td>300.0</td>\n",
       "      <td>NaN</td>\n",
       "      <td>None</td>\n",
       "      <td>NaN</td>\n",
       "    </tr>\n",
       "    <tr>\n",
       "      <th>2</th>\n",
       "      <td>-2048.0</td>\n",
       "      <td>-2560.0</td>\n",
       "      <td>18.0</td>\n",
       "      <td>-6.272256</td>\n",
       "      <td>-2.356183</td>\n",
       "      <td>-0.00278</td>\n",
       "      <td>0.0</td>\n",
       "      <td>0.0</td>\n",
       "      <td>81.0</td>\n",
       "      <td>0.0</td>\n",
       "      <td>...</td>\n",
       "      <td>False</td>\n",
       "      <td>False</td>\n",
       "      <td>NaN</td>\n",
       "      <td>NaN</td>\n",
       "      <td>19.357170</td>\n",
       "      <td>0.036002</td>\n",
       "      <td>300.0</td>\n",
       "      <td>NaN</td>\n",
       "      <td>None</td>\n",
       "      <td>NaN</td>\n",
       "    </tr>\n",
       "    <tr>\n",
       "      <th>3</th>\n",
       "      <td>-2048.0</td>\n",
       "      <td>-2560.0</td>\n",
       "      <td>18.0</td>\n",
       "      <td>-6.272256</td>\n",
       "      <td>-2.356183</td>\n",
       "      <td>-0.00278</td>\n",
       "      <td>0.0</td>\n",
       "      <td>0.0</td>\n",
       "      <td>81.0</td>\n",
       "      <td>0.0</td>\n",
       "      <td>...</td>\n",
       "      <td>False</td>\n",
       "      <td>False</td>\n",
       "      <td>NaN</td>\n",
       "      <td>NaN</td>\n",
       "      <td>19.393167</td>\n",
       "      <td>0.036002</td>\n",
       "      <td>300.0</td>\n",
       "      <td>NaN</td>\n",
       "      <td>None</td>\n",
       "      <td>NaN</td>\n",
       "    </tr>\n",
       "    <tr>\n",
       "      <th>4</th>\n",
       "      <td>-2048.0</td>\n",
       "      <td>-2560.0</td>\n",
       "      <td>18.0</td>\n",
       "      <td>-6.272256</td>\n",
       "      <td>-2.356183</td>\n",
       "      <td>-0.00278</td>\n",
       "      <td>0.0</td>\n",
       "      <td>0.0</td>\n",
       "      <td>81.0</td>\n",
       "      <td>0.0</td>\n",
       "      <td>...</td>\n",
       "      <td>False</td>\n",
       "      <td>False</td>\n",
       "      <td>NaN</td>\n",
       "      <td>NaN</td>\n",
       "      <td>19.429302</td>\n",
       "      <td>0.036138</td>\n",
       "      <td>300.0</td>\n",
       "      <td>NaN</td>\n",
       "      <td>None</td>\n",
       "      <td>NaN</td>\n",
       "    </tr>\n",
       "  </tbody>\n",
       "</table>\n",
       "<p>5 rows × 154 columns</p>\n",
       "</div>"
      ],
      "text/plain": [
       "      Hunter746                                                               \\\n",
       "          pos_x   pos_y pos_z     rot_x     rot_y    rot_z vel_x vel_y vel_z   \n",
       "index                                                                          \n",
       "0       -2048.0 -2560.0  18.0 -6.272256 -2.356183 -0.00278   0.0   0.0  81.0   \n",
       "1       -2048.0 -2560.0  18.0 -6.272256 -2.356183 -0.00278   0.0   0.0  81.0   \n",
       "2       -2048.0 -2560.0  18.0 -6.272256 -2.356183 -0.00278   0.0   0.0  81.0   \n",
       "3       -2048.0 -2560.0  18.0 -6.272256 -2.356183 -0.00278   0.0   0.0  81.0   \n",
       "4       -2048.0 -2560.0  18.0 -6.272256 -2.356183 -0.00278   0.0   0.0  81.0   \n",
       "\n",
       "                 ...      xcuttington21                                  \\\n",
       "      ang_vel_x  ... double_jump_active dodge_active ping boost_collect   \n",
       "index            ...                                                      \n",
       "0           0.0  ...              False        False  NaN           NaN   \n",
       "1           0.0  ...              False        False  NaN           NaN   \n",
       "2           0.0  ...              False        False  NaN           NaN   \n",
       "3           0.0  ...              False        False  NaN           NaN   \n",
       "4           0.0  ...              False        False  NaN           NaN   \n",
       "\n",
       "            game                                                           \\\n",
       "            time     delta seconds_remaining replicated_seconds_remaining   \n",
       "index                                                                       \n",
       "0      19.284970  0.004000             300.0                          NaN   \n",
       "1      19.321173  0.036207             300.0                          NaN   \n",
       "2      19.357170  0.036002             300.0                          NaN   \n",
       "3      19.393167  0.036002             300.0                          NaN   \n",
       "4      19.429302  0.036138             300.0                          NaN   \n",
       "\n",
       "                                     \n",
       "      ball_has_been_hit goal_number  \n",
       "index                                \n",
       "0                  None         NaN  \n",
       "1                  None         NaN  \n",
       "2                  None         NaN  \n",
       "3                  None         NaN  \n",
       "4                  None         NaN  \n",
       "\n",
       "[5 rows x 154 columns]"
      ]
     },
     "execution_count": 19,
     "metadata": {},
     "output_type": "execute_result"
    }
   ],
   "source": [
    "df0[.head()"
   ]
  },
  {
   "cell_type": "code",
   "execution_count": 20,
   "metadata": {
    "scrolled": true
   },
   "outputs": [
    {
     "data": {
      "text/plain": [
       "MultiIndex(levels=[['Hunter746', 'Hunters Coach', 'ball', 'game', 'jjgamer345', 'madkillerDC', 'oeskrew187', 'xcuttington21'], ['ang_vel_x', 'ang_vel_y', 'ang_vel_z', 'ball_cam', 'ball_has_been_hit', 'boost', 'boost_active', 'boost_collect', 'delta', 'dodge_active', 'double_jump_active', 'goal_number', 'handbrake', 'hit_team_no', 'jump_active', 'ping', 'pos_x', 'pos_y', 'pos_z', 'replicated_seconds_remaining', 'rot_x', 'rot_y', 'rot_z', 'seconds_remaining', 'steer', 'throttle', 'time', 'vel_x', 'vel_y', 'vel_z']],\n",
       "           codes=[[0, 0, 0, 0, 0, 0, 0, 0, 0, 0, 0, 0, 0, 0, 0, 0, 0, 0, 0, 0, 0, 0, 0, 1, 1, 1, 1, 1, 1, 1, 1, 1, 1, 1, 1, 1, 1, 1, 1, 1, 1, 1, 1, 1, 1, 1, 2, 2, 2, 2, 2, 2, 2, 2, 2, 2, 2, 2, 2, 4, 4, 4, 4, 4, 4, 4, 4, 4, 4, 4, 4, 4, 4, 4, 4, 4, 4, 4, 4, 4, 4, 4, 5, 5, 5, 5, 5, 5, 5, 5, 5, 5, 5, 5, 5, 5, 5, 5, 5, 5, 5, 5, 5, 5, 5, 6, 6, 6, 6, 6, 6, 6, 6, 6, 6, 6, 6, 6, 6, 6, 6, 6, 6, 6, 6, 6, 7, 7, 7, 7, 7, 7, 7, 7, 7, 7, 7, 7, 7, 7, 7, 7, 7, 7, 7, 7, 7, 7, 3, 3, 3, 3, 3, 3], [16, 17, 18, 20, 21, 22, 27, 28, 29, 0, 1, 2, 25, 24, 12, 3, 14, 10, 5, 6, 9, 15, 7, 16, 17, 18, 20, 21, 22, 27, 28, 29, 0, 1, 2, 25, 24, 12, 3, 14, 10, 9, 5, 6, 15, 7, 16, 17, 18, 20, 21, 22, 27, 28, 29, 0, 1, 2, 13, 16, 17, 18, 20, 21, 22, 27, 28, 29, 0, 1, 2, 25, 24, 12, 3, 9, 10, 14, 5, 6, 15, 7, 16, 17, 18, 20, 21, 22, 27, 28, 29, 0, 1, 2, 25, 24, 12, 3, 10, 14, 9, 5, 6, 15, 7, 16, 17, 18, 20, 21, 22, 27, 28, 29, 0, 1, 2, 25, 24, 14, 10, 5, 6, 9, 15, 7, 16, 17, 18, 20, 21, 22, 27, 28, 29, 0, 1, 2, 25, 24, 12, 5, 6, 14, 10, 9, 15, 7, 26, 8, 23, 19, 4, 11]])"
      ]
     },
     "execution_count": 20,
     "metadata": {},
     "output_type": "execute_result"
    }
   ],
   "source": [
    "df0.columns"
   ]
  },
  {
   "cell_type": "code",
   "execution_count": 21,
   "metadata": {},
   "outputs": [
    {
     "data": {
      "text/html": [
       "<div>\n",
       "<style scoped>\n",
       "    .dataframe tbody tr th:only-of-type {\n",
       "        vertical-align: middle;\n",
       "    }\n",
       "\n",
       "    .dataframe tbody tr th {\n",
       "        vertical-align: top;\n",
       "    }\n",
       "\n",
       "    .dataframe thead th {\n",
       "        text-align: right;\n",
       "    }\n",
       "</style>\n",
       "<table border=\"1\" class=\"dataframe\">\n",
       "  <thead>\n",
       "    <tr style=\"text-align: right;\">\n",
       "      <th></th>\n",
       "      <th>pos_x</th>\n",
       "      <th>pos_y</th>\n",
       "      <th>pos_z</th>\n",
       "      <th>rot_x</th>\n",
       "      <th>rot_y</th>\n",
       "      <th>rot_z</th>\n",
       "      <th>vel_x</th>\n",
       "      <th>vel_y</th>\n",
       "      <th>vel_z</th>\n",
       "      <th>ang_vel_x</th>\n",
       "      <th>ang_vel_y</th>\n",
       "      <th>ang_vel_z</th>\n",
       "      <th>hit_team_no</th>\n",
       "    </tr>\n",
       "    <tr>\n",
       "      <th>index</th>\n",
       "      <th></th>\n",
       "      <th></th>\n",
       "      <th></th>\n",
       "      <th></th>\n",
       "      <th></th>\n",
       "      <th></th>\n",
       "      <th></th>\n",
       "      <th></th>\n",
       "      <th></th>\n",
       "      <th></th>\n",
       "      <th></th>\n",
       "      <th></th>\n",
       "      <th></th>\n",
       "    </tr>\n",
       "  </thead>\n",
       "  <tbody>\n",
       "    <tr>\n",
       "      <th>11145</th>\n",
       "      <td>3304</td>\n",
       "      <td>1088</td>\n",
       "      <td>157</td>\n",
       "      <td>-5.481956</td>\n",
       "      <td>-1.391006</td>\n",
       "      <td>-1.539565</td>\n",
       "      <td>-4687.0</td>\n",
       "      <td>-13167.0</td>\n",
       "      <td>-6975.0</td>\n",
       "      <td>-4736.0</td>\n",
       "      <td>-1810.0</td>\n",
       "      <td>2918.0</td>\n",
       "      <td>0.0</td>\n",
       "    </tr>\n",
       "    <tr>\n",
       "      <th>11146</th>\n",
       "      <td>3281</td>\n",
       "      <td>1024</td>\n",
       "      <td>123</td>\n",
       "      <td>-5.286370</td>\n",
       "      <td>-1.302130</td>\n",
       "      <td>-1.596035</td>\n",
       "      <td>-2668.0</td>\n",
       "      <td>-16516.0</td>\n",
       "      <td>-2480.0</td>\n",
       "      <td>1694.0</td>\n",
       "      <td>-53.0</td>\n",
       "      <td>1439.0</td>\n",
       "      <td>0.0</td>\n",
       "    </tr>\n",
       "    <tr>\n",
       "      <th>11147</th>\n",
       "      <td>3272</td>\n",
       "      <td>969</td>\n",
       "      <td>115</td>\n",
       "      <td>-5.340156</td>\n",
       "      <td>-1.279407</td>\n",
       "      <td>-1.626716</td>\n",
       "      <td>-2665.0</td>\n",
       "      <td>-16500.0</td>\n",
       "      <td>-2694.0</td>\n",
       "      <td>1694.0</td>\n",
       "      <td>-53.0</td>\n",
       "      <td>1439.0</td>\n",
       "      <td>0.0</td>\n",
       "    </tr>\n",
       "    <tr>\n",
       "      <th>11148</th>\n",
       "      <td>3263</td>\n",
       "      <td>914</td>\n",
       "      <td>105</td>\n",
       "      <td>-5.393559</td>\n",
       "      <td>-1.255630</td>\n",
       "      <td>-1.657204</td>\n",
       "      <td>-2662.0</td>\n",
       "      <td>-16483.0</td>\n",
       "      <td>-2908.0</td>\n",
       "      <td>1694.0</td>\n",
       "      <td>-53.0</td>\n",
       "      <td>1439.0</td>\n",
       "      <td>0.0</td>\n",
       "    </tr>\n",
       "    <tr>\n",
       "      <th>11149</th>\n",
       "      <td>3254</td>\n",
       "      <td>859</td>\n",
       "      <td>95</td>\n",
       "      <td>-5.446386</td>\n",
       "      <td>-1.230799</td>\n",
       "      <td>-1.687500</td>\n",
       "      <td>-2660.0</td>\n",
       "      <td>-16466.0</td>\n",
       "      <td>-3122.0</td>\n",
       "      <td>1694.0</td>\n",
       "      <td>-53.0</td>\n",
       "      <td>1439.0</td>\n",
       "      <td>0.0</td>\n",
       "    </tr>\n",
       "  </tbody>\n",
       "</table>\n",
       "</div>"
      ],
      "text/plain": [
       "       pos_x  pos_y  pos_z     rot_x     rot_y     rot_z   vel_x    vel_y  \\\n",
       "index                                                                       \n",
       "11145   3304   1088    157 -5.481956 -1.391006 -1.539565 -4687.0 -13167.0   \n",
       "11146   3281   1024    123 -5.286370 -1.302130 -1.596035 -2668.0 -16516.0   \n",
       "11147   3272    969    115 -5.340156 -1.279407 -1.626716 -2665.0 -16500.0   \n",
       "11148   3263    914    105 -5.393559 -1.255630 -1.657204 -2662.0 -16483.0   \n",
       "11149   3254    859     95 -5.446386 -1.230799 -1.687500 -2660.0 -16466.0   \n",
       "\n",
       "        vel_z  ang_vel_x  ang_vel_y  ang_vel_z  hit_team_no  \n",
       "index                                                        \n",
       "11145 -6975.0    -4736.0    -1810.0     2918.0          0.0  \n",
       "11146 -2480.0     1694.0      -53.0     1439.0          0.0  \n",
       "11147 -2694.0     1694.0      -53.0     1439.0          0.0  \n",
       "11148 -2908.0     1694.0      -53.0     1439.0          0.0  \n",
       "11149 -3122.0     1694.0      -53.0     1439.0          0.0  "
      ]
     },
     "execution_count": 21,
     "metadata": {},
     "output_type": "execute_result"
    }
   ],
   "source": [
    "df0['ball'].tail()"
   ]
  },
  {
   "cell_type": "code",
   "execution_count": 22,
   "metadata": {},
   "outputs": [
    {
     "data": {
      "text/html": [
       "<div>\n",
       "<style scoped>\n",
       "    .dataframe tbody tr th:only-of-type {\n",
       "        vertical-align: middle;\n",
       "    }\n",
       "\n",
       "    .dataframe tbody tr th {\n",
       "        vertical-align: top;\n",
       "    }\n",
       "\n",
       "    .dataframe thead th {\n",
       "        text-align: right;\n",
       "    }\n",
       "</style>\n",
       "<table border=\"1\" class=\"dataframe\">\n",
       "  <thead>\n",
       "    <tr style=\"text-align: right;\">\n",
       "      <th></th>\n",
       "      <th>time</th>\n",
       "      <th>delta</th>\n",
       "      <th>seconds_remaining</th>\n",
       "      <th>replicated_seconds_remaining</th>\n",
       "      <th>ball_has_been_hit</th>\n",
       "      <th>goal_number</th>\n",
       "    </tr>\n",
       "    <tr>\n",
       "      <th>index</th>\n",
       "      <th></th>\n",
       "      <th></th>\n",
       "      <th></th>\n",
       "      <th></th>\n",
       "      <th></th>\n",
       "      <th></th>\n",
       "    </tr>\n",
       "  </thead>\n",
       "  <tbody>\n",
       "    <tr>\n",
       "      <th>0</th>\n",
       "      <td>19.284970</td>\n",
       "      <td>0.004000</td>\n",
       "      <td>300.0</td>\n",
       "      <td>NaN</td>\n",
       "      <td>None</td>\n",
       "      <td>NaN</td>\n",
       "    </tr>\n",
       "    <tr>\n",
       "      <th>1</th>\n",
       "      <td>19.321173</td>\n",
       "      <td>0.036207</td>\n",
       "      <td>300.0</td>\n",
       "      <td>NaN</td>\n",
       "      <td>None</td>\n",
       "      <td>NaN</td>\n",
       "    </tr>\n",
       "    <tr>\n",
       "      <th>2</th>\n",
       "      <td>19.357170</td>\n",
       "      <td>0.036002</td>\n",
       "      <td>300.0</td>\n",
       "      <td>NaN</td>\n",
       "      <td>None</td>\n",
       "      <td>NaN</td>\n",
       "    </tr>\n",
       "    <tr>\n",
       "      <th>3</th>\n",
       "      <td>19.393167</td>\n",
       "      <td>0.036002</td>\n",
       "      <td>300.0</td>\n",
       "      <td>NaN</td>\n",
       "      <td>None</td>\n",
       "      <td>NaN</td>\n",
       "    </tr>\n",
       "    <tr>\n",
       "      <th>4</th>\n",
       "      <td>19.429302</td>\n",
       "      <td>0.036138</td>\n",
       "      <td>300.0</td>\n",
       "      <td>NaN</td>\n",
       "      <td>None</td>\n",
       "      <td>NaN</td>\n",
       "    </tr>\n",
       "  </tbody>\n",
       "</table>\n",
       "</div>"
      ],
      "text/plain": [
       "            time     delta  seconds_remaining  replicated_seconds_remaining  \\\n",
       "index                                                                         \n",
       "0      19.284970  0.004000              300.0                           NaN   \n",
       "1      19.321173  0.036207              300.0                           NaN   \n",
       "2      19.357170  0.036002              300.0                           NaN   \n",
       "3      19.393167  0.036002              300.0                           NaN   \n",
       "4      19.429302  0.036138              300.0                           NaN   \n",
       "\n",
       "      ball_has_been_hit  goal_number  \n",
       "index                                 \n",
       "0                  None          NaN  \n",
       "1                  None          NaN  \n",
       "2                  None          NaN  \n",
       "3                  None          NaN  \n",
       "4                  None          NaN  "
      ]
     },
     "execution_count": 22,
     "metadata": {},
     "output_type": "execute_result"
    }
   ],
   "source": [
    "df0['game'].head()"
   ]
  },
  {
   "cell_type": "code",
   "execution_count": 40,
   "metadata": {},
   "outputs": [
    {
     "data": {
      "text/html": [
       "<div>\n",
       "<style scoped>\n",
       "    .dataframe tbody tr th:only-of-type {\n",
       "        vertical-align: middle;\n",
       "    }\n",
       "\n",
       "    .dataframe tbody tr th {\n",
       "        vertical-align: top;\n",
       "    }\n",
       "\n",
       "    .dataframe thead th {\n",
       "        text-align: right;\n",
       "    }\n",
       "</style>\n",
       "<table border=\"1\" class=\"dataframe\">\n",
       "  <thead>\n",
       "    <tr style=\"text-align: right;\">\n",
       "      <th></th>\n",
       "      <th>pos_x</th>\n",
       "      <th>pos_y</th>\n",
       "      <th>pos_z</th>\n",
       "    </tr>\n",
       "  </thead>\n",
       "  <tbody>\n",
       "    <tr>\n",
       "      <th>count</th>\n",
       "      <td>11123.000000</td>\n",
       "      <td>11123.000000</td>\n",
       "      <td>11123.000000</td>\n",
       "    </tr>\n",
       "    <tr>\n",
       "      <th>mean</th>\n",
       "      <td>98.570350</td>\n",
       "      <td>-540.919087</td>\n",
       "      <td>73.201924</td>\n",
       "    </tr>\n",
       "    <tr>\n",
       "      <th>std</th>\n",
       "      <td>1842.828864</td>\n",
       "      <td>2957.910077</td>\n",
       "      <td>183.963418</td>\n",
       "    </tr>\n",
       "    <tr>\n",
       "      <th>min</th>\n",
       "      <td>-4079.000000</td>\n",
       "      <td>-5784.000000</td>\n",
       "      <td>16.000000</td>\n",
       "    </tr>\n",
       "    <tr>\n",
       "      <th>25%</th>\n",
       "      <td>-1007.000000</td>\n",
       "      <td>-3263.000000</td>\n",
       "      <td>18.000000</td>\n",
       "    </tr>\n",
       "    <tr>\n",
       "      <th>50%</th>\n",
       "      <td>84.000000</td>\n",
       "      <td>-596.000000</td>\n",
       "      <td>18.000000</td>\n",
       "    </tr>\n",
       "    <tr>\n",
       "      <th>75%</th>\n",
       "      <td>1285.500000</td>\n",
       "      <td>1770.000000</td>\n",
       "      <td>20.000000</td>\n",
       "    </tr>\n",
       "    <tr>\n",
       "      <th>max</th>\n",
       "      <td>4079.000000</td>\n",
       "      <td>5888.000000</td>\n",
       "      <td>2007.000000</td>\n",
       "    </tr>\n",
       "  </tbody>\n",
       "</table>\n",
       "</div>"
      ],
      "text/plain": [
       "              pos_x         pos_y         pos_z\n",
       "count  11123.000000  11123.000000  11123.000000\n",
       "mean      98.570350   -540.919087     73.201924\n",
       "std     1842.828864   2957.910077    183.963418\n",
       "min    -4079.000000  -5784.000000     16.000000\n",
       "25%    -1007.000000  -3263.000000     18.000000\n",
       "50%       84.000000   -596.000000     18.000000\n",
       "75%     1285.500000   1770.000000     20.000000\n",
       "max     4079.000000   5888.000000   2007.000000"
      ]
     },
     "execution_count": 40,
     "metadata": {},
     "output_type": "execute_result"
    }
   ],
   "source": [
    "df0['Hunter746'][POSITION_COLUMNS].describe()"
   ]
  },
  {
   "cell_type": "code",
   "execution_count": 24,
   "metadata": {},
   "outputs": [
    {
     "data": {
      "text/plain": [
       "Index(['pos_x', 'pos_y', 'pos_z', 'rot_x', 'rot_y', 'rot_z', 'vel_x', 'vel_y',\n",
       "       'vel_z', 'ang_vel_x', 'ang_vel_y', 'ang_vel_z', 'throttle', 'steer',\n",
       "       'handbrake', 'ball_cam', 'jump_active', 'double_jump_active', 'boost',\n",
       "       'boost_active', 'dodge_active', 'ping', 'boost_collect'],\n",
       "      dtype='object')"
      ]
     },
     "execution_count": 24,
     "metadata": {},
     "output_type": "execute_result"
    }
   ],
   "source": [
    "df0['Hunter746'].columns"
   ]
  },
  {
   "cell_type": "code",
   "execution_count": 25,
   "metadata": {},
   "outputs": [
    {
     "data": {
      "image/png": "[encoded data removed]",
      "text/plain": [
       "<Figure size 432x288 with 1 Axes>"
      ]
     },
     "metadata": {
      "needs_background": "light"
     },
     "output_type": "display_data"
    }
   ],
   "source": [
    "p0_xy = df0['Hunter746'][[\"pos_x\", \"pos_y\"]].dropna()\n",
    "x = p0_xy['pos_x']\n",
    "y = p0_xy['pos_y']\n",
    "plt.hist2d(x,y, bins=20)\n",
    "plt.show()"
   ]
  },
  {
   "cell_type": "code",
   "execution_count": 26,
   "metadata": {},
   "outputs": [],
   "source": [
    "proto0 = data_manager.get_proto(replays[1])"
   ]
  },
  {
   "cell_type": "code",
   "execution_count": 27,
   "metadata": {},
   "outputs": [
    {
     "data": {
      "text/plain": [
       "3"
      ]
     },
     "execution_count": 27,
     "metadata": {},
     "output_type": "execute_result"
    }
   ],
   "source": [
    "# (verbose)\n",
    "proto0.game_metadata.team_size"
   ]
  },
  {
   "cell_type": "markdown",
   "metadata": {},
   "source": [
    "## Data Retrieval (TODO)\n",
    "\n",
    "This stage retrieves replays from the internet, and caches them locally.\n",
    "\n",
    "\n",
    "### Train / Validation / Test Split (TODO)\n",
    "\n",
    "Data partitioning should be done on a per-replay basis, so that there are no chances for the model to memorize similar frames from the same replay."
   ]
  },
  {
   "cell_type": "code",
   "execution_count": 28,
   "metadata": {},
   "outputs": [],
   "source": [
    "class Replay(object):\n",
    "    def __init__(self, df, proto):\n",
    "        self.df = df\n",
    "        self.proto = proto\n",
    "\n",
    "def get_replay(replay_id, manager):\n",
    "    df = manager.get_pandas(replay_id)\n",
    "    proto = manager.get_proto(replay_id)\n",
    "    if df is None or proto is None:\n",
    "        return None\n",
    "    return Replay(df, proto)\n",
    "\n",
    "def partition_replays(replay_list):\n",
    "    return (\n",
    "        list(filter(_is_train_partition, replay_list)),\n",
    "        list(filter(_is_validate_partition, replay_list)),\n",
    "        list(filter(_is_test_partition, replay_list)),\n",
    "    )\n",
    "\n",
    "_TRAIN_PARTITION = (1 - TEST_RATIO - VALIDATE_RATIO) * PARTITION_RANGE\n",
    "_TEST_PARTITION = (1 - TEST_RATIO) * PARTITION_RANGE\n",
    "\n",
    "def _is_train_partition(replay_id):\n",
    "    id_value = abs(hash(replay_id)) % PARTITION_RANGE\n",
    "    return id_value < _TRAIN_PARTITION\n",
    "\n",
    "def _is_validate_partition(replay_id):\n",
    "    id_value = abs(hash(replay_id)) % PARTITION_RANGE\n",
    "    return id_value >= _TRAIN_PARTITION and id_value < _TEST_PARTITION\n",
    "\n",
    "def _is_test_partition(replay_id):\n",
    "    id_value = abs(hash(replay_id)) % PARTITION_RANGE\n",
    "    return id_value >= _TEST_PARTITION"
   ]
  },
  {
   "cell_type": "code",
   "execution_count": 29,
   "metadata": {},
   "outputs": [],
   "source": [
    "# for now, we will just do a manual split of the first 10 replays\n",
    "replays = data_manager.get_replay_list(num=50)\n",
    "train_replays, validate_replays, test_replays = partition_replays(replays)"
   ]
  },
  {
   "cell_type": "code",
   "execution_count": 30,
   "metadata": {},
   "outputs": [
    {
     "data": {
      "text/plain": [
       "(31, 13, 6)"
      ]
     },
     "execution_count": 30,
     "metadata": {},
     "output_type": "execute_result"
    }
   ],
   "source": [
    "len(train_replays), len(validate_replays), len(test_replays)"
   ]
  },
  {
   "cell_type": "markdown",
   "metadata": {},
   "source": [
    "## Preprocessing\n",
    "\n",
    "This stage takes replay dataframes and protobufs and prepares them as a numpy matrix suitable for model ingestion and analysis. There are 2 possible schemas I want to explore for state representation. \n",
    "\n",
    "\n",
    "### Schema: analog positions (DONE)\n",
    "\n",
    "Records shall be represented as position vectors as shown below\n",
    "\n",
    "```\n",
    "<ball> <t0_p0> <t0_p1> <t0_p2> <t1_p0> <t1_p1> <t1_p2>\n",
    "foreach: <pos_x> <pos_y> <pos_z>\n",
    "```\n",
    "\n",
    "### Schema: rasterized positions (TODO)\n",
    "\n",
    "Records shall be represented as 3-channel rasterized images, with a channel each for ball, team_0, and team_1.   This can be generated from the condensed positions.\n",
    "\n",
    "### Filtering (TODO)\n",
    "\n",
    "Starting positions are likely to be over-represented in this dataset.  It may be useful to filter out all frames before a ball has been hit.\n",
    "\n",
    "### Reordering (TODO)\n",
    "\n",
    "The data could then be expanded to capture the symmetries of team and player reordering.  Player ordering in the condensed schema is arbitrary, and each record could generate `3! * 3! = 36` permutations. Team ordering is not arbitrary, but teams could be swapped by negating `pos_y` values.  This would increase the total available permutations to `36 * 2 = 72`.  There is also x-axis symmetry, so by negating X values we get another mirror, bringing it to `72 * 2 = 144` permutations.\n",
    "\n",
    "### Distortion (TODO)\n",
    "\n",
    "Optionally, it would be possible to slightly randomize positions, in order to help generalize.\n",
    "\n",
    "\n",
    "### Dropout (TODO)\n",
    "\n",
    "The original plan was to omit one player, and make the predictor guess it. If we are already have generated all reorderings, it should be sufficient to simply omit the final player.  However, I would also like to explore the possibility of a GAN or Autoencoder where one position within a valid record is fabricated, and the predictor must reconstruct the valid position from the invalid one."
   ]
  },
  {
   "cell_type": "code",
   "execution_count": 31,
   "metadata": {},
   "outputs": [],
   "source": [
    "def analog_positions(replay):\n",
    "    assert replay is not None\n",
    "    proto = replay.proto\n",
    "    dataframe = replay.df\n",
    "    assert proto is not None\n",
    "    assert dataframe is not None\n",
    "    ball_posn = get_named_posn(dataframe, 'ball')\n",
    "    ball_posn = add_col_prefix(ball_posn, \"ball_\")\n",
    "    t0_posns = []\n",
    "    t1_posns = []\n",
    "    for player in proto.players:\n",
    "        posn = get_named_posn(dataframe, player.name)\n",
    "        if player.is_orange == 0:\n",
    "            t0_posns.append(posn)\n",
    "        else:\n",
    "            t1_posns.append(posn)\n",
    "    for i, posn in enumerate(t0_posns):\n",
    "        t0_posns[i] = add_col_prefix(posn, 't0_p{}_'.format(i))\n",
    "    for i, posn in enumerate(t1_posns):\n",
    "        t1_posns[i] = add_col_prefix(posn, 't1_p{}_'.format(i))\n",
    "    positions = [ball_posn] + t0_posns + t1_posns\n",
    "    return pd.concat(positions, axis=1).dropna()\n",
    "\n",
    "def get_named_posn(dataframe, name):\n",
    "    return dataframe[name][POSITION_COLUMNS]\n",
    "\n",
    "def get_named_player(proto, player_name):\n",
    "    for player in proto.players:\n",
    "        if player.name == player_name:\n",
    "            return player\n",
    "    raise ValueError(\"Could not find player: \" + player_name)\n",
    "    \n",
    "def add_col_prefix(dataframe, prefix):\n",
    "    return dataframe.rename(lambda col: prefix + col, axis='columns')"
   ]
  },
  {
   "cell_type": "code",
   "execution_count": 32,
   "metadata": {},
   "outputs": [
    {
     "name": "stderr",
     "output_type": "stream",
     "text": [
      "WARNING: Logging before flag parsing goes to stderr.\n",
      "E0601 17:37:23.077068 140133728540288 pandas_manager.py:29] Failure to read pandas [] from memory: Struct error\n",
      "Traceback (most recent call last):\n",
      "  File \"/home/axelmagn/workspace/personal/ReplayModels/venv/lib/python3.7/site-packages/carball/analysis/utils/numpy_manager.py\", line 49, in get_array\n",
      "    starting_byte = struct.unpack('i', chunk)[0]\n",
      "struct.error: unpack requires a buffer of 4 bytes\n",
      "\n",
      "During handling of the above exception, another exception occurred:\n",
      "\n",
      "Traceback (most recent call last):\n",
      "  File \"/home/axelmagn/workspace/personal/ReplayModels/venv/lib/python3.7/site-packages/carball/analysis/utils/pandas_manager.py\", line 27, in safe_read_pandas_to_memory\n",
      "    return PandasManager.read_numpy_from_memory(buffer)\n",
      "  File \"/home/axelmagn/workspace/personal/ReplayModels/venv/lib/python3.7/site-packages/carball/analysis/utils/pandas_manager.py\", line 40, in read_numpy_from_memory\n",
      "    array = read_array_from_file(buffer)\n",
      "  File \"/home/axelmagn/workspace/personal/ReplayModels/venv/lib/python3.7/site-packages/carball/analysis/utils/numpy_manager.py\", line 36, in read_array_from_file\n",
      "    numpy_array, num_bytes = get_array(file, chunk)\n",
      "  File \"/home/axelmagn/workspace/personal/ReplayModels/venv/lib/python3.7/site-packages/carball/analysis/utils/numpy_manager.py\", line 51, in get_array\n",
      "    raise EOFError('Struct error')\n",
      "EOFError: Struct error\n",
      "E0601 17:37:24.312490 140133728540288 pandas_manager.py:29] Failure to read pandas [] from memory: Struct error\n",
      "Traceback (most recent call last):\n",
      "  File \"/home/axelmagn/workspace/personal/ReplayModels/venv/lib/python3.7/site-packages/carball/analysis/utils/numpy_manager.py\", line 49, in get_array\n",
      "    starting_byte = struct.unpack('i', chunk)[0]\n",
      "struct.error: unpack requires a buffer of 4 bytes\n",
      "\n",
      "During handling of the above exception, another exception occurred:\n",
      "\n",
      "Traceback (most recent call last):\n",
      "  File \"/home/axelmagn/workspace/personal/ReplayModels/venv/lib/python3.7/site-packages/carball/analysis/utils/pandas_manager.py\", line 27, in safe_read_pandas_to_memory\n",
      "    return PandasManager.read_numpy_from_memory(buffer)\n",
      "  File \"/home/axelmagn/workspace/personal/ReplayModels/venv/lib/python3.7/site-packages/carball/analysis/utils/pandas_manager.py\", line 40, in read_numpy_from_memory\n",
      "    array = read_array_from_file(buffer)\n",
      "  File \"/home/axelmagn/workspace/personal/ReplayModels/venv/lib/python3.7/site-packages/carball/analysis/utils/numpy_manager.py\", line 36, in read_array_from_file\n",
      "    numpy_array, num_bytes = get_array(file, chunk)\n",
      "  File \"/home/axelmagn/workspace/personal/ReplayModels/venv/lib/python3.7/site-packages/carball/analysis/utils/numpy_manager.py\", line 51, in get_array\n",
      "    raise EOFError('Struct error')\n",
      "EOFError: Struct error\n",
      "E0601 17:37:37.827306 140133728540288 pandas_manager.py:29] Failure to read pandas [] from memory: Struct error\n",
      "Traceback (most recent call last):\n",
      "  File \"/home/axelmagn/workspace/personal/ReplayModels/venv/lib/python3.7/site-packages/carball/analysis/utils/numpy_manager.py\", line 49, in get_array\n",
      "    starting_byte = struct.unpack('i', chunk)[0]\n",
      "struct.error: unpack requires a buffer of 4 bytes\n",
      "\n",
      "During handling of the above exception, another exception occurred:\n",
      "\n",
      "Traceback (most recent call last):\n",
      "  File \"/home/axelmagn/workspace/personal/ReplayModels/venv/lib/python3.7/site-packages/carball/analysis/utils/pandas_manager.py\", line 27, in safe_read_pandas_to_memory\n",
      "    return PandasManager.read_numpy_from_memory(buffer)\n",
      "  File \"/home/axelmagn/workspace/personal/ReplayModels/venv/lib/python3.7/site-packages/carball/analysis/utils/pandas_manager.py\", line 40, in read_numpy_from_memory\n",
      "    array = read_array_from_file(buffer)\n",
      "  File \"/home/axelmagn/workspace/personal/ReplayModels/venv/lib/python3.7/site-packages/carball/analysis/utils/numpy_manager.py\", line 36, in read_array_from_file\n",
      "    numpy_array, num_bytes = get_array(file, chunk)\n",
      "  File \"/home/axelmagn/workspace/personal/ReplayModels/venv/lib/python3.7/site-packages/carball/analysis/utils/numpy_manager.py\", line 51, in get_array\n",
      "    raise EOFError('Struct error')\n",
      "EOFError: Struct error\n",
      "E0601 17:37:38.858626 140133728540288 pandas_manager.py:29] Failure to read pandas [] from memory: Struct error\n",
      "Traceback (most recent call last):\n",
      "  File \"/home/axelmagn/workspace/personal/ReplayModels/venv/lib/python3.7/site-packages/carball/analysis/utils/numpy_manager.py\", line 49, in get_array\n",
      "    starting_byte = struct.unpack('i', chunk)[0]\n",
      "struct.error: unpack requires a buffer of 4 bytes\n",
      "\n",
      "During handling of the above exception, another exception occurred:\n",
      "\n",
      "Traceback (most recent call last):\n",
      "  File \"/home/axelmagn/workspace/personal/ReplayModels/venv/lib/python3.7/site-packages/carball/analysis/utils/pandas_manager.py\", line 27, in safe_read_pandas_to_memory\n",
      "    return PandasManager.read_numpy_from_memory(buffer)\n",
      "  File \"/home/axelmagn/workspace/personal/ReplayModels/venv/lib/python3.7/site-packages/carball/analysis/utils/pandas_manager.py\", line 40, in read_numpy_from_memory\n",
      "    array = read_array_from_file(buffer)\n",
      "  File \"/home/axelmagn/workspace/personal/ReplayModels/venv/lib/python3.7/site-packages/carball/analysis/utils/numpy_manager.py\", line 36, in read_array_from_file\n",
      "    numpy_array, num_bytes = get_array(file, chunk)\n",
      "  File \"/home/axelmagn/workspace/personal/ReplayModels/venv/lib/python3.7/site-packages/carball/analysis/utils/numpy_manager.py\", line 51, in get_array\n",
      "    raise EOFError('Struct error')\n",
      "EOFError: Struct error\n",
      "E0601 17:37:52.020468 140133728540288 pandas_manager.py:29] Failure to read pandas [] from memory: Struct error\n",
      "Traceback (most recent call last):\n",
      "  File \"/home/axelmagn/workspace/personal/ReplayModels/venv/lib/python3.7/site-packages/carball/analysis/utils/numpy_manager.py\", line 49, in get_array\n",
      "    starting_byte = struct.unpack('i', chunk)[0]\n",
      "struct.error: unpack requires a buffer of 4 bytes\n",
      "\n",
      "During handling of the above exception, another exception occurred:\n",
      "\n",
      "Traceback (most recent call last):\n",
      "  File \"/home/axelmagn/workspace/personal/ReplayModels/venv/lib/python3.7/site-packages/carball/analysis/utils/pandas_manager.py\", line 27, in safe_read_pandas_to_memory\n",
      "    return PandasManager.read_numpy_from_memory(buffer)\n",
      "  File \"/home/axelmagn/workspace/personal/ReplayModels/venv/lib/python3.7/site-packages/carball/analysis/utils/pandas_manager.py\", line 40, in read_numpy_from_memory\n",
      "    array = read_array_from_file(buffer)\n",
      "  File \"/home/axelmagn/workspace/personal/ReplayModels/venv/lib/python3.7/site-packages/carball/analysis/utils/numpy_manager.py\", line 36, in read_array_from_file\n",
      "    numpy_array, num_bytes = get_array(file, chunk)\n",
      "  File \"/home/axelmagn/workspace/personal/ReplayModels/venv/lib/python3.7/site-packages/carball/analysis/utils/numpy_manager.py\", line 51, in get_array\n",
      "    raise EOFError('Struct error')\n",
      "EOFError: Struct error\n",
      "E0601 17:37:53.219833 140133728540288 pandas_manager.py:29] Failure to read pandas [] from memory: Struct error\n",
      "Traceback (most recent call last):\n",
      "  File \"/home/axelmagn/workspace/personal/ReplayModels/venv/lib/python3.7/site-packages/carball/analysis/utils/numpy_manager.py\", line 49, in get_array\n",
      "    starting_byte = struct.unpack('i', chunk)[0]\n",
      "struct.error: unpack requires a buffer of 4 bytes\n",
      "\n",
      "During handling of the above exception, another exception occurred:\n",
      "\n",
      "Traceback (most recent call last):\n",
      "  File \"/home/axelmagn/workspace/personal/ReplayModels/venv/lib/python3.7/site-packages/carball/analysis/utils/pandas_manager.py\", line 27, in safe_read_pandas_to_memory\n",
      "    return PandasManager.read_numpy_from_memory(buffer)\n",
      "  File \"/home/axelmagn/workspace/personal/ReplayModels/venv/lib/python3.7/site-packages/carball/analysis/utils/pandas_manager.py\", line 40, in read_numpy_from_memory\n",
      "    array = read_array_from_file(buffer)\n",
      "  File \"/home/axelmagn/workspace/personal/ReplayModels/venv/lib/python3.7/site-packages/carball/analysis/utils/numpy_manager.py\", line 36, in read_array_from_file\n",
      "    numpy_array, num_bytes = get_array(file, chunk)\n",
      "  File \"/home/axelmagn/workspace/personal/ReplayModels/venv/lib/python3.7/site-packages/carball/analysis/utils/numpy_manager.py\", line 51, in get_array\n",
      "    raise EOFError('Struct error')\n",
      "EOFError: Struct error\n"
     ]
    }
   ],
   "source": [
    "loaded_replays = filter(lambda r: r is not None, (get_replay(replay_name, data_manager) for replay_name in train_replays))\n",
    "train_aps = pd.concat((analog_positions(r) for r in loaded_replays), axis=0)"
   ]
  },
  {
   "cell_type": "code",
   "execution_count": 33,
   "metadata": {},
   "outputs": [
    {
     "name": "stderr",
     "output_type": "stream",
     "text": [
      "E0601 17:37:54.051023 140133728540288 pandas_manager.py:29] Failure to read pandas [] from memory: Struct error\n",
      "Traceback (most recent call last):\n",
      "  File \"/home/axelmagn/workspace/personal/ReplayModels/venv/lib/python3.7/site-packages/carball/analysis/utils/numpy_manager.py\", line 49, in get_array\n",
      "    starting_byte = struct.unpack('i', chunk)[0]\n",
      "struct.error: unpack requires a buffer of 4 bytes\n",
      "\n",
      "During handling of the above exception, another exception occurred:\n",
      "\n",
      "Traceback (most recent call last):\n",
      "  File \"/home/axelmagn/workspace/personal/ReplayModels/venv/lib/python3.7/site-packages/carball/analysis/utils/pandas_manager.py\", line 27, in safe_read_pandas_to_memory\n",
      "    return PandasManager.read_numpy_from_memory(buffer)\n",
      "  File \"/home/axelmagn/workspace/personal/ReplayModels/venv/lib/python3.7/site-packages/carball/analysis/utils/pandas_manager.py\", line 40, in read_numpy_from_memory\n",
      "    array = read_array_from_file(buffer)\n",
      "  File \"/home/axelmagn/workspace/personal/ReplayModels/venv/lib/python3.7/site-packages/carball/analysis/utils/numpy_manager.py\", line 36, in read_array_from_file\n",
      "    numpy_array, num_bytes = get_array(file, chunk)\n",
      "  File \"/home/axelmagn/workspace/personal/ReplayModels/venv/lib/python3.7/site-packages/carball/analysis/utils/numpy_manager.py\", line 51, in get_array\n",
      "    raise EOFError('Struct error')\n",
      "EOFError: Struct error\n",
      "E0601 17:37:55.183503 140133728540288 pandas_manager.py:29] Failure to read pandas [] from memory: Struct error\n",
      "Traceback (most recent call last):\n",
      "  File \"/home/axelmagn/workspace/personal/ReplayModels/venv/lib/python3.7/site-packages/carball/analysis/utils/numpy_manager.py\", line 49, in get_array\n",
      "    starting_byte = struct.unpack('i', chunk)[0]\n",
      "struct.error: unpack requires a buffer of 4 bytes\n",
      "\n",
      "During handling of the above exception, another exception occurred:\n",
      "\n",
      "Traceback (most recent call last):\n",
      "  File \"/home/axelmagn/workspace/personal/ReplayModels/venv/lib/python3.7/site-packages/carball/analysis/utils/pandas_manager.py\", line 27, in safe_read_pandas_to_memory\n",
      "    return PandasManager.read_numpy_from_memory(buffer)\n",
      "  File \"/home/axelmagn/workspace/personal/ReplayModels/venv/lib/python3.7/site-packages/carball/analysis/utils/pandas_manager.py\", line 40, in read_numpy_from_memory\n",
      "    array = read_array_from_file(buffer)\n",
      "  File \"/home/axelmagn/workspace/personal/ReplayModels/venv/lib/python3.7/site-packages/carball/analysis/utils/numpy_manager.py\", line 36, in read_array_from_file\n",
      "    numpy_array, num_bytes = get_array(file, chunk)\n",
      "  File \"/home/axelmagn/workspace/personal/ReplayModels/venv/lib/python3.7/site-packages/carball/analysis/utils/numpy_manager.py\", line 51, in get_array\n",
      "    raise EOFError('Struct error')\n",
      "EOFError: Struct error\n"
     ]
    }
   ],
   "source": [
    "loaded_replays = filter(lambda r: r is not None, (get_replay(replay_name, data_manager) for replay_name in validate_replays))\n",
    "validate_aps = pd.concat((analog_positions(r) for r in loaded_replays), axis=0)"
   ]
  },
  {
   "cell_type": "code",
   "execution_count": 34,
   "metadata": {},
   "outputs": [],
   "source": [
    "# Split features and targets\n",
    "def get_analog_features(analog_positions_dataframe):\n",
    "    return np.copy(analog_positions_dataframe.values[:,:-NCOLS])\n",
    "\n",
    "def get_analog_targets(analog_positions_dataframe):\n",
    "    return np.copy(analog_positions_dataframe.values[:,-NCOLS:])\n",
    "\n",
    "# TODO: split train, validation, and test sets based on multiple replays"
   ]
  },
  {
   "cell_type": "code",
   "execution_count": 35,
   "metadata": {},
   "outputs": [],
   "source": [
    "train_aps_features = get_analog_features(train_aps)\n",
    "train_aps_targets = get_analog_targets(train_aps)\n",
    "validate_aps_features = get_analog_features(validate_aps)\n",
    "validate_aps_targets = get_analog_targets(validate_aps)"
   ]
  },
  {
   "cell_type": "code",
   "execution_count": null,
   "metadata": {},
   "outputs": [],
   "source": [
    "# rasterization\n"
   ]
  },
  {
   "cell_type": "markdown",
   "metadata": {},
   "source": [
    "## Model Selection\n",
    "\n",
    "This stage evaluates different models on the training data.  Below is a list of model hypotheses that should be considered.\n",
    "\n",
    "### Models\n",
    "\n",
    "#### XGBoost (Baseline) (In Progress)\n",
    "\n",
    "XGBoost performs well at many complex regression problems, and is easy to apply using a library.  It will serve as the baseline against which more sophisticated model hypotheses can be compared.\n",
    "\n",
    "#### Clustering / KNN (Baseline) (TODO)\n",
    "\n",
    "Another simple solution would be to retrieve similar memorized positions.\n",
    "\n",
    "#### Deep Neural Networks (TODO)\n",
    "\n",
    "After baselines have been measured, more sophisticated models such as convolutional neural networks can be considered.\n",
    "\n",
    "### Selection Criteria\n",
    "\n",
    "As important as the models is our criteria for evaluating them.  Since this problem does not easily map to a real-world loss function, this can be somewhat arbitrary, and may depend on the output schema.\n",
    "\n",
    "#### RMSE (Single Output Schema)\n",
    "\n",
    "Old reliable.\n",
    "\n",
    "#### MAE (Single Output Schema)\n",
    "\n",
    "It may be justifiable to use this since I don't care too much about missing outliers.\n",
    "\n",
    "#### R^2 (Single Output Schema)\n",
    "\n",
    "SKLearn default.  Seems to have some advantages.  Will probably stick with this out of convenience.\n",
    "\n",
    "#### Probability Weighted Score (Distribution Output Schema)\n",
    "\n",
    "If the model outputs a probability distribution across multiple possible positions, I think it makes sense to add up the score of those positions, multiplied by their predicted probability weight.\n",
    "\n"
   ]
  },
  {
   "cell_type": "markdown",
   "metadata": {},
   "source": [
    "## XGBoost\n",
    "\n",
    "Try training with XGBoost.  Key questions:\n",
    "\n",
    "1. would we benefit from more training data?\n",
    "2. would we benefit from more iterations?\n",
    "3. Are the hyperparameters optimaly tuned?"
   ]
  },
  {
   "cell_type": "code",
   "execution_count": 25,
   "metadata": {},
   "outputs": [],
   "source": [
    "def xgb_model(**kwargs):\n",
    "    return MultiOutputRegressor(xgb.XGBRegressor(learning_rate=0.01, objective='reg:squarederror', random_seed=0))"
   ]
  },
  {
   "cell_type": "code",
   "execution_count": 29,
   "metadata": {},
   "outputs": [
    {
     "data": {
      "text/plain": [
       "MultiOutputRegressor(estimator=XGBRegressor(base_score=0.5, booster='gbtree',\n",
       "                                            colsample_bylevel=1,\n",
       "                                            colsample_bynode=1,\n",
       "                                            colsample_bytree=1, gamma=0,\n",
       "                                            importance_type='gain',\n",
       "                                            learning_rate=0.01,\n",
       "                                            max_delta_step=0, max_depth=3,\n",
       "                                            min_child_weight=1, missing=None,\n",
       "                                            n_estimators=100, n_jobs=1,\n",
       "                                            nthread=None,\n",
       "                                            objective='reg:squarederror',\n",
       "                                            random_seed=0, random_state=0,\n",
       "                                            reg_alpha=0, reg_lambda=1,\n",
       "                                            scale_pos_weight=1, seed=None,\n",
       "                                            silent=None, subsample=1,\n",
       "                                            verbosity=1),\n",
       "                     n_jobs=None)"
      ]
     },
     "execution_count": 29,
     "metadata": {},
     "output_type": "execute_result"
    }
   ],
   "source": [
    "model = xgb_model()\n",
    "model.fit(train_features, train_targets)"
   ]
  },
  {
   "cell_type": "code",
   "execution_count": 31,
   "metadata": {},
   "outputs": [
    {
     "data": {
      "text/plain": [
       "0.23961912393954052"
      ]
     },
     "execution_count": 31,
     "metadata": {},
     "output_type": "execute_result"
    }
   ],
   "source": [
    "# how does this model perform out of the box?\n",
    "model.score(validate_features, validate_targets)"
   ]
  },
  {
   "cell_type": "code",
   "execution_count": 32,
   "metadata": {},
   "outputs": [],
   "source": [
    "# TODO: give a shit about the other questions"
   ]
  },
  {
   "cell_type": "markdown",
   "metadata": {},
   "source": [
    "## Simple Dense Classifier"
   ]
  },
  {
   "cell_type": "markdown",
   "metadata": {},
   "source": [
    "## TMP: Tensorflow sanity check"
   ]
  },
  {
   "cell_type": "code",
   "execution_count": 1,
   "metadata": {},
   "outputs": [],
   "source": [
    "from __future__ import absolute_import, division, print_function, unicode_literals\n",
    "\n",
    "import tensorflow as tf\n",
    "\n",
    "from tensorflow.keras.layers import Dense, Flatten, Conv2D\n",
    "from tensorflow.keras import Model"
   ]
  },
  {
   "cell_type": "code",
   "execution_count": 2,
   "metadata": {},
   "outputs": [
    {
     "name": "stdout",
     "output_type": "stream",
     "text": [
      "Downloading data from https://storage.googleapis.com/tensorflow/tf-keras-datasets/mnist.npz\n",
      "11493376/11490434 [==============================] - 3s 0us/step\n"
     ]
    }
   ],
   "source": [
    "mnist = tf.keras.datasets.mnist\n",
    "\n",
    "(x_train, y_train), (x_test, y_test) = mnist.load_data()\n",
    "x_train, x_test = x_train / 255.0, x_test / 255.0\n",
    "\n",
    "# Add a channels dimension\n",
    "x_train = x_train[..., tf.newaxis]\n",
    "x_test = x_test[..., tf.newaxis]"
   ]
  },
  {
   "cell_type": "code",
   "execution_count": 3,
   "metadata": {},
   "outputs": [],
   "source": [
    "train_ds = tf.data.Dataset.from_tensor_slices(\n",
    "    (x_train, y_train)).shuffle(10000).batch(32)\n",
    "test_ds = tf.data.Dataset.from_tensor_slices((x_test, y_test)).batch(32)"
   ]
  },
  {
   "cell_type": "code",
   "execution_count": 4,
   "metadata": {},
   "outputs": [],
   "source": [
    "class MyModel(Model):\n",
    "  def __init__(self):\n",
    "    super(MyModel, self).__init__()\n",
    "    self.conv1 = Conv2D(32, 3, activation='relu')\n",
    "    self.flatten = Flatten()\n",
    "    self.d1 = Dense(128, activation='relu')\n",
    "    self.d2 = Dense(10, activation='softmax')\n",
    "\n",
    "  def call(self, x):\n",
    "    x = self.conv1(x)\n",
    "    x = self.flatten(x)\n",
    "    x = self.d1(x)\n",
    "    return self.d2(x)\n",
    "\n",
    "model = MyModel()"
   ]
  },
  {
   "cell_type": "code",
   "execution_count": 5,
   "metadata": {},
   "outputs": [],
   "source": [
    "loss_object = tf.keras.losses.SparseCategoricalCrossentropy()\n",
    "\n",
    "optimizer = tf.keras.optimizers.Adam()"
   ]
  },
  {
   "cell_type": "code",
   "execution_count": 6,
   "metadata": {},
   "outputs": [],
   "source": [
    "train_loss = tf.keras.metrics.Mean(name='train_loss')\n",
    "train_accuracy = tf.keras.metrics.SparseCategoricalAccuracy(name='train_accuracy')\n",
    "\n",
    "test_loss = tf.keras.metrics.Mean(name='test_loss')\n",
    "test_accuracy = tf.keras.metrics.SparseCategoricalAccuracy(name='test_accuracy')"
   ]
  },
  {
   "cell_type": "code",
   "execution_count": 7,
   "metadata": {},
   "outputs": [],
   "source": [
    "@tf.function\n",
    "def train_step(images, labels):\n",
    "  with tf.GradientTape() as tape:\n",
    "    predictions = model(images)\n",
    "    loss = loss_object(labels, predictions)\n",
    "  gradients = tape.gradient(loss, model.trainable_variables)\n",
    "  optimizer.apply_gradients(zip(gradients, model.trainable_variables))\n",
    "\n",
    "  train_loss(loss)\n",
    "  train_accuracy(labels, predictions)"
   ]
  },
  {
   "cell_type": "code",
   "execution_count": 8,
   "metadata": {},
   "outputs": [],
   "source": [
    "@tf.function\n",
    "def test_step(images, labels):\n",
    "  predictions = model(images)\n",
    "  t_loss = loss_object(labels, predictions)\n",
    "\n",
    "  test_loss(t_loss)\n",
    "  test_accuracy(labels, predictions)"
   ]
  },
  {
   "cell_type": "code",
   "execution_count": 11,
   "metadata": {},
   "outputs": [
    {
     "name": "stdout",
     "output_type": "stream",
     "text": [
      "Epoch 1, Loss: 0.1341739147901535, Accuracy: 95.8933334350586, Test Loss: 0.05695280432701111, Test Accuracy: 98.08999633789062\n",
      "Epoch 2, Loss: 0.0873652845621109, Accuracy: 97.33583068847656, Test Loss: 0.05193914473056793, Test Accuracy: 98.22000122070312\n",
      "Epoch 3, Loss: 0.06430377066135406, Accuracy: 98.03722381591797, Test Loss: 0.05261257290840149, Test Accuracy: 98.26333618164062\n",
      "Epoch 4, Loss: 0.05145478621125221, Accuracy: 98.4254150390625, Test Loss: 0.053377918899059296, Test Accuracy: 98.32250213623047\n",
      "Epoch 5, Loss: 0.042890507727861404, Accuracy: 98.68299865722656, Test Loss: 0.054339755326509476, Test Accuracy: 98.35399627685547\n"
     ]
    }
   ],
   "source": [
    "\n",
    "EPOCHS = 5\n",
    "\n",
    "for epoch in range(EPOCHS):\n",
    "  for images, labels in train_ds:\n",
    "    train_step(images, labels)\n",
    "\n",
    "  for test_images, test_labels in test_ds:\n",
    "    test_step(test_images, test_labels)\n",
    "\n",
    "  template = 'Epoch {}, Loss: {}, Accuracy: {}, Test Loss: {}, Test Accuracy: {}'\n",
    "  print (template.format(epoch+1,\n",
    "                         train_loss.result(),\n",
    "                         train_accuracy.result()*100,\n",
    "                         test_loss.result(),\n",
    "                         test_accuracy.result()*100))\n"
   ]
  },
  {
   "cell_type": "code",
   "execution_count": 10,
   "metadata": {},
   "outputs": [
    {
     "data": {
      "text/plain": [
       "False"
      ]
     },
     "execution_count": 10,
     "metadata": {},
     "output_type": "execute_result"
    }
   ],
   "source": [
    "tf.test.is_gpu_available()"
   ]
  },
  {
   "cell_type": "code",
   "execution_count": null,
   "metadata": {},
   "outputs": [],
   "source": []
  }
 ],
 "metadata": {
  "kernelspec": {
   "display_name": "Python 3",
   "language": "python",
   "name": "python3"
  },
  "language_info": {
   "codemirror_mode": {
    "name": "ipython",
    "version": 3
   },
   "file_extension": ".py",
   "mimetype": "text/x-python",
   "name": "python",
   "nbconvert_exporter": "python",
   "pygments_lexer": "ipython3",
   "version": "3.7.3"
  }
 },
 "nbformat": 4,
 "nbformat_minor": 2
}
